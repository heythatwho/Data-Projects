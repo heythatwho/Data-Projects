{
 "cells": [
  {
   "cell_type": "code",
   "execution_count": 9,
   "id": "f61203e0",
   "metadata": {},
   "outputs": [
    {
     "name": "stdout",
     "output_type": "stream",
     "text": [
      "Added Walmart_Sales to the database.\n"
     ]
    }
   ],
   "source": [
    "import pandas as pd\n",
    "from sqlalchemy import create_engine\n",
    "import os\n",
    "\n",
    "db_username = 'postgres'\n",
    "db_password = '123123123'\n",
    "db_host = 'localhost'\n",
    "db_port = '5432'\n",
    "db_name = 'myfirstpostgresqldb'\n",
    "\n",
    "# Create the SQLAlchemy engine\n",
    "engine = create_engine(f'postgresql+psycopg2://{db_username}:{db_password}@{db_host}:{db_port}/{db_name}')\n",
    "\n",
    "# Load the CSV file into a DataFrame\n",
    "df = pd.read_csv('/Users/issacmiao/Downloads/Walmart_Sales.csv')\n",
    "\n",
    "\n",
    "# Define the table name\n",
    "table_name = 'Walmart_Sales'\n",
    "\n",
    "# Insert the DataFrame into the PostgreSQL table\n",
    "df.to_sql(table_name, engine, if_exists='replace', index=False)\n",
    "\n",
    "print(f\"Added {table_name} to the database.\")\n"
   ]
  },
  {
   "cell_type": "code",
   "execution_count": 11,
   "id": "75a924a4",
   "metadata": {},
   "outputs": [
    {
     "name": "stdout",
     "output_type": "stream",
     "text": [
      "Store           0\n",
      "Date            0\n",
      "Weekly_Sales    0\n",
      "Holiday_Flag    0\n",
      "Temperature     0\n",
      "Fuel_Price      0\n",
      "CPI             0\n",
      "Unemployment    0\n",
      "dtype: int64\n",
      "   Store        Date  Weekly_Sales  Holiday_Flag  Temperature  Fuel_Price  \\\n",
      "0      1  05-02-2010    1643690.90             0        42.31       2.572   \n",
      "1      1  12-02-2010    1641957.44             1        38.51       2.548   \n",
      "2      1  19-02-2010    1611968.17             0        39.93       2.514   \n",
      "3      1  26-02-2010    1409727.59             0        46.63       2.561   \n",
      "4      1  05-03-2010    1554806.68             0        46.50       2.625   \n",
      "\n",
      "          CPI  Unemployment  \n",
      "0  211.096358         8.106  \n",
      "1  211.242170         8.106  \n",
      "2  211.289143         8.106  \n",
      "3  211.319643         8.106  \n",
      "4  211.350143         8.106  \n"
     ]
    }
   ],
   "source": [
    "print(df.isna().sum())\n",
    "print(df.head())"
   ]
  },
  {
   "cell_type": "code",
   "execution_count": 12,
   "id": "062e7504",
   "metadata": {},
   "outputs": [
    {
     "name": "stdout",
     "output_type": "stream",
     "text": [
      "             Store  Weekly_Sales  Holiday_Flag  Temperature   Fuel_Price  \\\n",
      "count  6435.000000  6.435000e+03   6435.000000  6435.000000  6435.000000   \n",
      "mean     23.000000  1.046965e+06      0.069930    60.663782     3.358607   \n",
      "std      12.988182  5.643666e+05      0.255049    18.444933     0.459020   \n",
      "min       1.000000  2.099862e+05      0.000000    -2.060000     2.472000   \n",
      "25%      12.000000  5.533501e+05      0.000000    47.460000     2.933000   \n",
      "50%      23.000000  9.607460e+05      0.000000    62.670000     3.445000   \n",
      "75%      34.000000  1.420159e+06      0.000000    74.940000     3.735000   \n",
      "max      45.000000  3.818686e+06      1.000000   100.140000     4.468000   \n",
      "\n",
      "               CPI  Unemployment  \n",
      "count  6435.000000   6435.000000  \n",
      "mean    171.578394      7.999151  \n",
      "std      39.356712      1.875885  \n",
      "min     126.064000      3.879000  \n",
      "25%     131.735000      6.891000  \n",
      "50%     182.616521      7.874000  \n",
      "75%     212.743293      8.622000  \n",
      "max     227.232807     14.313000  \n"
     ]
    }
   ],
   "source": [
    "print(df.describe())"
   ]
  }
 ],
 "metadata": {
  "kernelspec": {
   "display_name": "Python 3 (ipykernel)",
   "language": "python",
   "name": "python3"
  },
  "language_info": {
   "codemirror_mode": {
    "name": "ipython",
    "version": 3
   },
   "file_extension": ".py",
   "mimetype": "text/x-python",
   "name": "python",
   "nbconvert_exporter": "python",
   "pygments_lexer": "ipython3",
   "version": "3.11.4"
  }
 },
 "nbformat": 4,
 "nbformat_minor": 5
}
