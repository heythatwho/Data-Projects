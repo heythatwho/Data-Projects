{
 "cells": [
  {
   "cell_type": "code",
   "execution_count": 1,
   "id": "16f46d8c",
   "metadata": {},
   "outputs": [
    {
     "name": "stdout",
     "output_type": "stream",
     "text": [
      "Control Conversion Rate: 0.1145\n",
      "Test Conversion Rate: 0.1453\n",
      "Required sample size per group: 4144\n",
      "Test Duration (in days): 2 days\n",
      "Z-statistic: 6.4781\n",
      "P-value: 0.0000\n",
      "The test result is statistically significant. We reject the null hypothesis.\n"
     ]
    },
    {
     "data": {
      "image/png": "[encoded data removed]",
      "text/plain": [
       "<Figure size 640x480 with 1 Axes>"
      ]
     },
     "metadata": {},
     "output_type": "display_data"
    }
   ],
   "source": [
    "import numpy as np\n",
    "import pandas as pd\n",
    "from scipy import stats\n",
    "import matplotlib.pyplot as plt\n",
    "\n",
    "# Simulated Data for A/B Test\n",
    "np.random.seed(42)\n",
    "\n",
    "# Assuming we are testing a new feature on an e-commerce platform\n",
    "n_control = 10000  # Control group size\n",
    "n_test = 10000  # Test group size\n",
    "\n",
    "# Control group: average conversion rate of 12%\n",
    "control_conversion_rate = 0.12\n",
    "control_group = np.random.binomial(1, control_conversion_rate, n_control)\n",
    "\n",
    "# Test group: we expect a 2% improvement (conversion rate of 14%)\n",
    "test_conversion_rate = 0.14\n",
    "test_group = np.random.binomial(1, test_conversion_rate, n_test)\n",
    "\n",
    "# Conversion metrics\n",
    "control_conversion = np.mean(control_group)\n",
    "test_conversion = np.mean(test_group)\n",
    "\n",
    "print(f\"Control Conversion Rate: {control_conversion:.4f}\")\n",
    "print(f\"Test Conversion Rate: {test_conversion:.4f}\")\n",
    "\n",
    "# 1. Metric Selection\n",
    "# We use the conversion rate (the percentage of visitors that make a purchase) as our primary metric.\n",
    "\n",
    "# 2. Randomization Unit: Each user visiting the website is randomly assigned to the control or test group.\n",
    "\n",
    "# 3. Target Population: Visitors to the e-commerce website, excluding bots or duplicate visits.\n",
    "\n",
    "# 4. Sample Size Calculation using Power Analysis\n",
    "# We use the formula to calculate the sample size needed for detecting the effect:\n",
    "from statsmodels.stats.power import zt_ind_solve_power\n",
    "\n",
    "# Parameters: expected effect size, alpha (significance level), beta (1 - power), baseline rate, etc.\n",
    "effect_size = (test_conversion_rate - control_conversion_rate) / np.sqrt(\n",
    "    control_conversion_rate * (1 - control_conversion_rate)\n",
    ")\n",
    "\n",
    "alpha = 0.05  # significance level\n",
    "power = 0.8   # 80% power\n",
    "\n",
    "sample_size = zt_ind_solve_power(effect_size, alpha=alpha, power=power, ratio=1)\n",
    "print(f\"Required sample size per group: {int(sample_size)}\")\n",
    "\n",
    "# 5. Test Duration Calculation\n",
    "# Assuming traffic is 5000 visitors per day.\n",
    "daily_traffic = 5000\n",
    "test_duration = np.ceil(sample_size * 2 / daily_traffic)  # Multiply by 2 to account for both groups\n",
    "print(f\"Test Duration (in days): {int(test_duration)} days\")\n",
    "\n",
    "# 6. Statistical Significance Test (Hypothesis Testing)\n",
    "# Perform a two-sided Z-test to see if the difference between control and test groups is statistically significant\n",
    "def z_test(control, test):\n",
    "    control_mean = np.mean(control)\n",
    "    test_mean = np.mean(test)\n",
    "    pooled_prob = (control_mean + test_mean) / 2\n",
    "    se = np.sqrt(pooled_prob * (1 - pooled_prob) * (1 / len(control) + 1 / len(test)))\n",
    "    z_stat = (test_mean - control_mean) / se\n",
    "    p_value = 2 * (1 - stats.norm.cdf(abs(z_stat)))  # two-tailed test\n",
    "    return z_stat, p_value\n",
    "\n",
    "z_stat, p_value = z_test(control_group, test_group)\n",
    "print(f\"Z-statistic: {z_stat:.4f}\")\n",
    "print(f\"P-value: {p_value:.4f}\")\n",
    "\n",
    "# 7. Results Interpretation\n",
    "if p_value < alpha:\n",
    "    print(\"The test result is statistically significant. We reject the null hypothesis.\")\n",
    "else:\n",
    "    print(\"The test result is not statistically significant. We fail to reject the null hypothesis.\")\n",
    "\n",
    "# 8. Visualization\n",
    "plt.bar(['Control', 'Test'], [control_conversion, test_conversion], color=['blue', 'orange'])\n",
    "plt.ylabel('Conversion Rate')\n",
    "plt.title('A/B Test Results')\n",
    "plt.show()\n",
    "\n",
    "# 9. Alternatives to A/B Testing\n",
    "# - Multi-Armed Bandit: Dynamic exploration of different variations based on performance.\n",
    "# - Quasi-Experiment: Observational study using historical data.\n",
    "# - Simulations: Run what-if scenarios based on assumptions and pre-existing data.\n",
    "\n",
    "# END of A/B Test Project Script\n"
   ]
  }
 ],
 "metadata": {
  "kernelspec": {
   "display_name": "Python 3 (ipykernel)",
   "language": "python",
   "name": "python3"
  },
  "language_info": {
   "codemirror_mode": {
    "name": "ipython",
    "version": 3
   },
   "file_extension": ".py",
   "mimetype": "text/x-python",
   "name": "python",
   "nbconvert_exporter": "python",
   "pygments_lexer": "ipython3",
   "version": "3.11.4"
  }
 },
 "nbformat": 4,
 "nbformat_minor": 5
}
