{
 "cells": [
  {
   "cell_type": "code",
   "execution_count": 8,
   "id": "af070d95",
   "metadata": {},
   "outputs": [
    {
     "name": "stdout",
     "output_type": "stream",
     "text": [
      "Added amazon_sales_data_2 to the database.\n"
     ]
    }
   ],
   "source": [
    "import pandas as pd\n",
    "from sqlalchemy import create_engine\n",
    "import os\n",
    "# Define your PostgreSQL connection details\n",
    "db_username = 'postgres'\n",
    "db_password = '123123123'\n",
    "db_host = 'localhost'\n",
    "db_port = '5432'\n",
    "db_name = 'myfirstpostgresqldb'\n",
    "\n",
    "# Create the SQLAlchemy engine\n",
    "engine = create_engine(f'postgresql+psycopg2://{db_username}:{db_password}@{db_host}:{db_port}/{db_name}')\n",
    "\n",
    "# Define the directory containing your CSV files\n",
    "csv_file_path = '/Users/issacmiao/Downloads/AmazonSalesData 2.csv'\n",
    "\n",
    "#read the csv file into a df\n",
    "df = pd.read_csv(csv_file_path)\n",
    "\n",
    "# Define the table name (e.g., based on the CSV file name)\n",
    "table_name = 'amazon_sales_data_2'\n",
    "\n",
    "# Insert the DataFrame into the PostgreSQL table\n",
    "df.to_sql(table_name, engine, if_exists='replace', index=False)\n",
    "\n",
    "print(f\"Added {table_name} to the database.\")"
   ]
  },
  {
   "cell_type": "code",
   "execution_count": null,
   "id": "ad89f9ce",
   "metadata": {},
   "outputs": [],
   "source": []
  }
 ],
 "metadata": {
  "kernelspec": {
   "display_name": "Python 3 (ipykernel)",
   "language": "python",
   "name": "python3"
  },
  "language_info": {
   "codemirror_mode": {
    "name": "ipython",
    "version": 3
   },
   "file_extension": ".py",
   "mimetype": "text/x-python",
   "name": "python",
   "nbconvert_exporter": "python",
   "pygments_lexer": "ipython3",
   "version": "3.11.4"
  }
 },
 "nbformat": 4,
 "nbformat_minor": 5
}
