{
 "cells": [
  {
   "cell_type": "code",
   "execution_count": 6,
   "id": "3b8edce0",
   "metadata": {},
   "outputs": [],
   "source": [
    "import pandas as pd\n",
    "import psycopg2\n",
    "from psycopg2 import sql\n",
    "#set up connection\n",
    "db_username = 'postgres'\n",
    "db_password = '123123123'\n",
    "db_host = '127.0.0.1'\n",
    "db_port ='5432'\n",
    "db_name = 'myfirstpostgresqldb'\n",
    "\n",
    "try:\n",
    "    conn = psycopg2.connect(\n",
    "    dbname=db_name,\n",
    "    user=db_username,\n",
    "    password=db_password,\n",
    "    host=db_host,\n",
    "    port=db_port)\n",
    "except Error as e:\n",
    "    print(\"Error: Could not make connection to the Postgres database\")\n",
    "    print(e)\n",
    "    \n",
    "#connect to curser\n",
    "try:\n",
    "    cur=conn.cursor()\n",
    "except psycopg2.Error as e:\n",
    "    print(\"Error: Could not get curser to the database\")\n",
    "    print(e)\n"
   ]
  },
  {
   "cell_type": "code",
   "execution_count": 12,
   "id": "3f5bee25",
   "metadata": {},
   "outputs": [],
   "source": [
    "#set automatic committed\n",
    "conn.set_session(autocommit=True)\n",
    "\n",
    "#define csv file path\n",
    "csv_file_path='/Users/issacmiao/Downloads/AmazonSalesData.csv'\n",
    "\n",
    "df=pd.read_csv(csv_file_path)\n",
    "\n",
    "# Generate the CREATE TABLE statement\n",
    "create_table_query = sql.SQL('create table if not exists amazon_sales_data ({})').format(sql.SQL(',').join([sql.Identifier(col) + sql.SQL('text') for col in df.columns]))\n",
    "\n",
    "try:\n",
    "    cur.execute(create_table_query)\n",
    "except psycopg2.Error as e:\n",
    "    print(\"Error: Could not get curser to the Database\")\n",
    "    print(e)\n",
    "    \n",
    "# Commit the transaction\n",
    "#conn.commit()"
   ]
  },
  {
   "cell_type": "code",
   "execution_count": 14,
   "id": "407a4b28",
   "metadata": {},
   "outputs": [
    {
     "name": "stdout",
     "output_type": "stream",
     "text": [
      "                              Region                Country        Item Type  \\\n",
      "0              Australia and Oceania                 Tuvalu        Baby Food   \n",
      "1  Central America and the Caribbean                Grenada           Cereal   \n",
      "2                             Europe                 Russia  Office Supplies   \n",
      "3                 Sub-Saharan Africa  Sao Tome and Principe           Fruits   \n",
      "4                 Sub-Saharan Africa                 Rwanda  Office Supplies   \n",
      "\n",
      "  Sales Channel Order Priority Order Date   Order ID  Ship Date  Units Sold  \\\n",
      "0       Offline              H  5/28/2010  669165933  6/27/2010        9925   \n",
      "1        Online              C  8/22/2012  963881480  9/15/2012        2804   \n",
      "2       Offline              L   5/2/2014  341417157   5/8/2014        1779   \n",
      "3        Online              C  6/20/2014  514321792   7/5/2014        8102   \n",
      "4       Offline              L   2/1/2013  115456712   2/6/2013        5062   \n",
      "\n",
      "   Unit Price  Unit Cost  Total Revenue  Total Cost  Total Profit  \n",
      "0      255.28     159.42     2533654.00  1582243.50     951410.50  \n",
      "1      205.70     117.11      576782.80   328376.44     248406.36  \n",
      "2      651.21     524.96     1158502.59   933903.84     224598.75  \n",
      "3        9.33       6.92       75591.66    56065.84      19525.82  \n",
      "4      651.21     524.96     3296425.02  2657347.52     639077.50  \n"
     ]
    }
   ],
   "source": [
    "print(df.head())"
   ]
  },
  {
   "cell_type": "code",
   "execution_count": 16,
   "id": "04411ba7",
   "metadata": {},
   "outputs": [
    {
     "name": "stdout",
     "output_type": "stream",
     "text": [
      "Data imported successfully into 'amazon_sales_data' table.\n"
     ]
    }
   ],
   "source": [
    "# Use copy_from() to import the data from the DataFrame to PostgreSQL\n",
    "from io import StringIO\n",
    "sio = StringIO()\n",
    "df.to_csv(sio, header=False, index=False)\n",
    "sio.seek(0)\n",
    "\n",
    "cur.copy_from(sio, 'amazon_sales_data', sep=',')\n",
    "print(f\"Data imported successfully into 'amazon_sales_data' table.\")\n"
   ]
  },
  {
   "cell_type": "code",
   "execution_count": 17,
   "id": "16891bfc",
   "metadata": {},
   "outputs": [],
   "source": [
    "cur.close()\n",
    "conn.close()"
   ]
  }
 ],
 "metadata": {
  "kernelspec": {
   "display_name": "Python 3 (ipykernel)",
   "language": "python",
   "name": "python3"
  },
  "language_info": {
   "codemirror_mode": {
    "name": "ipython",
    "version": 3
   },
   "file_extension": ".py",
   "mimetype": "text/x-python",
   "name": "python",
   "nbconvert_exporter": "python",
   "pygments_lexer": "ipython3",
   "version": "3.11.4"
  }
 },
 "nbformat": 4,
 "nbformat_minor": 5
}
